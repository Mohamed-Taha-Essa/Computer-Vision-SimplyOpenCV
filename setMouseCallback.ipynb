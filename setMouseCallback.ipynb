{
 "cells": [
  {
   "cell_type": "code",
   "execution_count": 10,
   "metadata": {},
   "outputs": [
    {
     "name": "stdout",
     "output_type": "stream",
     "text": [
      "EVENT_FLAG_ALTKEY\n",
      "EVENT_FLAG_CTRLKEY\n",
      "EVENT_FLAG_LBUTTON\n",
      "EVENT_FLAG_MBUTTON\n",
      "EVENT_FLAG_RBUTTON\n",
      "EVENT_FLAG_SHIFTKEY\n",
      "EVENT_LBUTTONDBLCLK\n",
      "EVENT_LBUTTONDOWN\n",
      "EVENT_LBUTTONUP\n",
      "EVENT_MBUTTONDBLCLK\n",
      "EVENT_MBUTTONDOWN\n",
      "EVENT_MBUTTONUP\n",
      "EVENT_MOUSEHWHEEL\n",
      "EVENT_MOUSEMOVE\n",
      "EVENT_MOUSEWHEEL\n",
      "EVENT_RBUTTONDBLCLK\n",
      "EVENT_RBUTTONDOWN\n",
      "EVENT_RBUTTONUP\n"
     ]
    }
   ],
   "source": [
    "import cv2 \n",
    "import numpy as np\n",
    "events =[i for i in dir(cv2) if 'EVENT' in i]\n",
    "for a in events:\n",
    "    print(a)"
   ]
  },
  {
   "cell_type": "code",
   "execution_count": 15,
   "metadata": {},
   "outputs": [],
   "source": [
    "#drawing circle if click on double click\n",
    "def drawCircle(event ,x ,y ,flags , param):\n",
    "    if event ==cv2.EVENT_LBUTTONDBLCLK:\n",
    "        cv2.circle((img),(x,y),50,(255,0,0),-1)\n",
    "\n",
    "\n",
    "img =np.zeros((512,512,3) ,np.uint8)\n",
    "cv2.namedWindow('image')\n",
    "cv2.setMouseCallback('image' ,drawCircle)\n",
    "\n",
    "while(1):\n",
    "    cv2.imshow('image',img)\n",
    "    if cv2.waitKey(20)==27:\n",
    "        break\n",
    "\n",
    "cv2.destroyAllWindows()\n",
    "\n"
   ]
  },
  {
   "cell_type": "code",
   "execution_count": 18,
   "metadata": {},
   "outputs": [],
   "source": [
    "def drawRectangle(event ,x ,y ,flags , param):\n",
    "    if event ==cv2.EVENT_LBUTTONDBLCLK:\n",
    "        cv2.rectangle((img),(x,y),(x+100,y+100),(255,0,0),-1)\n",
    "\n",
    "\n",
    "img =np.zeros((512,512,3) ,np.uint8)\n",
    "cv2.namedWindow('image')\n",
    "cv2.setMouseCallback('image' ,drawRectangle)\n",
    "\n",
    "while(1):\n",
    "    cv2.imshow('image',img)\n",
    "    if cv2.waitKey(20)==27:\n",
    "        break\n",
    "\n",
    "cv2.destroyAllWindows()"
   ]
  },
  {
   "cell_type": "code",
   "execution_count": 21,
   "metadata": {},
   "outputs": [],
   "source": [
    "def drawRectangle(event ,x ,y ,flags , param):\n",
    "    if event ==cv2.EVENT_LBUTTONDBLCLK:\n",
    "        cv2.rectangle((img),(x,y),(x+100,y+100),(255,0,0),-1)\n",
    "    elif event ==cv2.EVENT_RBUTTONDBLCLK:\n",
    "        cv2.circle((img),(x,y),50,(200,150,200),4)\n",
    "        \n",
    "\n",
    "img =np.zeros((512,512,3) ,np.uint8)\n",
    "cv2.namedWindow('image')\n",
    "cv2.setMouseCallback('image' ,drawRectangle)\n",
    "\n",
    "while(1):\n",
    "    cv2.imshow('image',img)\n",
    "    if cv2.waitKey(20)==27:\n",
    "        break\n",
    "\n",
    "cv2.destroyAllWindows()"
   ]
  },
  {
   "cell_type": "code",
   "execution_count": null,
   "metadata": {},
   "outputs": [],
   "source": []
  }
 ],
 "metadata": {
  "kernelspec": {
   "display_name": "Python 3",
   "language": "python",
   "name": "python3"
  },
  "language_info": {
   "codemirror_mode": {
    "name": "ipython",
    "version": 3
   },
   "file_extension": ".py",
   "mimetype": "text/x-python",
   "name": "python",
   "nbconvert_exporter": "python",
   "pygments_lexer": "ipython3",
   "version": "3.8.5"
  }
 },
 "nbformat": 4,
 "nbformat_minor": 4
}
