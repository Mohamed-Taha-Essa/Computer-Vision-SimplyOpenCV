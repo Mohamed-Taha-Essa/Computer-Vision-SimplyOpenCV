{
 "cells": [
  {
   "cell_type": "code",
   "execution_count": 1,
   "metadata": {},
   "outputs": [],
   "source": [
    "import numpy as np\n",
    "import cv2 \n",
    "\n",
    "img = cv2.imread(\"baboon.png\",0)\n",
    "cv2.imshow(\"baboon\",img)\n",
    "k = cv2.waitKey(0)\n",
    "if(k == 27):\n",
    "    cv2.destroyAllWindows()\n",
    "elif(k==ord('s')):\n",
    "    cv2.imwrite(\"grey_baboon.png\" ,img)\n",
    "    cv2.destroyAllWindows()"
   ]
  },
  {
   "cell_type": "code",
   "execution_count": 31,
   "metadata": {},
   "outputs": [],
   "source": [
    "#cv2.line()  //cv2.circle()// cv2.rectangle() //cv2.ellipse()  //cv2.putText()\n",
    "black_img=np.zeros((512,512,3) ,np.uint8)\n",
    "x =256\n",
    "y=0\n",
    "\n",
    "for i in range(5,512,50):\n",
    "    cv2.line(black_img , (0,i),(511,i) ,(255,0,0) ,3)\n",
    "    cv2.line(black_img , (i,y),(i,511) ,(0,0,255) ,3)\n",
    "\n",
    "\n",
    "\n",
    "cv2.imshow(\"baboon\",black_img)\n",
    "cv2.waitKey(0)\n",
    "cv2.destroyAllWindows()"
   ]
  },
  {
   "cell_type": "code",
   "execution_count": 63,
   "metadata": {},
   "outputs": [],
   "source": [
    "#drawing circle\n",
    "import numpy as np\n",
    "import cv2 \n",
    "img = np.zeros((512,512,3) ,np.uint8)\n",
    "\n",
    "cv2.circle(img ,(255,255) ,50 ,(255,0,0) ,3)\n",
    "cv2.line(img ,(310,205),(310,305),(0,0,255),3)\n",
    "cv2.line(img ,(210,308),(310,308),(0,0,255),3)\n",
    "cv2.line(img ,(205,308),(205,205),(0,0,255),3)\n",
    "cv2.line(img ,(205,205),(310,205),(0,0,255),3)\n",
    "\n",
    "cv2.circle(img , (255,255) ,75 ,(0,255,0),3)\n",
    "\n",
    "cv2.rectangle(img,(180,180) ,(330,330) ,(100,100,50),2)\n",
    "\n",
    "\n",
    "cv2.imshow(\"baboon\",img)\n",
    "cv2.waitKey(0)\n",
    "cv2.destroyAllWindows()"
   ]
  },
  {
   "cell_type": "code",
   "execution_count": 81,
   "metadata": {},
   "outputs": [],
   "source": [
    "#drawing rectangle\n",
    "import numpy as np\n",
    "import cv2 \n",
    "img = np.zeros((512,512,3) ,np.uint8)\n",
    "for i in range(0,511,64):\n",
    "    for j in range(511-i,0,-64 ):\n",
    "        cv2.rectangle(img,(i,i) ,(j,j) ,(0,255,0),2)\n",
    "        break\n",
    "\n",
    "cv2.imshow(\"baboon\",img)\n",
    "cv2.waitKey(0)\n",
    "cv2.destroyAllWindows()"
   ]
  },
  {
   "cell_type": "code",
   "execution_count": null,
   "metadata": {},
   "outputs": [],
   "source": []
  }
 ],
 "metadata": {
  "kernelspec": {
   "display_name": "Python 3",
   "language": "python",
   "name": "python3"
  },
  "language_info": {
   "codemirror_mode": {
    "name": "ipython",
    "version": 3
   },
   "file_extension": ".py",
   "mimetype": "text/x-python",
   "name": "python",
   "nbconvert_exporter": "python",
   "pygments_lexer": "ipython3",
   "version": "3.8.5"
  }
 },
 "nbformat": 4,
 "nbformat_minor": 4
}
